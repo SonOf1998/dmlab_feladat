{
 "cells": [
  {
   "cell_type": "code",
   "execution_count": 62,
   "metadata": {},
   "outputs": [],
   "source": [
    "import numpy as np\n",
    "import pandas as pd\n",
    "\n",
    "from sklearn.utils import shuffle"
   ]
  },
  {
   "cell_type": "code",
   "execution_count": 74,
   "metadata": {},
   "outputs": [
    {
     "data": {
      "text/html": [
       "<div>\n",
       "<style scoped>\n",
       "    .dataframe tbody tr th:only-of-type {\n",
       "        vertical-align: middle;\n",
       "    }\n",
       "\n",
       "    .dataframe tbody tr th {\n",
       "        vertical-align: top;\n",
       "    }\n",
       "\n",
       "    .dataframe thead th {\n",
       "        text-align: right;\n",
       "    }\n",
       "</style>\n",
       "<table border=\"1\" class=\"dataframe\">\n",
       "  <thead>\n",
       "    <tr style=\"text-align: right;\">\n",
       "      <th></th>\n",
       "      <th>BRAND</th>\n",
       "      <th>JARMU JELLEGE</th>\n",
       "      <th>UZEMANYAGTIPUS</th>\n",
       "      <th>EVJARAT</th>\n",
       "      <th>HENGERURTARTALOM (CM3)</th>\n",
       "      <th>TELJESITMENY (LE)</th>\n",
       "      <th>FUTOTT KILOMETER</th>\n",
       "      <th>AR (HUF)</th>\n",
       "    </tr>\n",
       "  </thead>\n",
       "  <tbody>\n",
       "    <tr>\n",
       "      <th>0</th>\n",
       "      <td>68</td>\n",
       "      <td>0</td>\n",
       "      <td>2</td>\n",
       "      <td>1996</td>\n",
       "      <td>6871</td>\n",
       "      <td>260</td>\n",
       "      <td>803039</td>\n",
       "      <td>1300000</td>\n",
       "    </tr>\n",
       "    <tr>\n",
       "      <th>1</th>\n",
       "      <td>75</td>\n",
       "      <td>0</td>\n",
       "      <td>2</td>\n",
       "      <td>1997</td>\n",
       "      <td>5958</td>\n",
       "      <td>132</td>\n",
       "      <td>217236</td>\n",
       "      <td>1500000</td>\n",
       "    </tr>\n",
       "    <tr>\n",
       "      <th>2</th>\n",
       "      <td>97</td>\n",
       "      <td>0</td>\n",
       "      <td>2</td>\n",
       "      <td>2002</td>\n",
       "      <td>10640</td>\n",
       "      <td>344</td>\n",
       "      <td>766500</td>\n",
       "      <td>1500000</td>\n",
       "    </tr>\n",
       "    <tr>\n",
       "      <th>3</th>\n",
       "      <td>83</td>\n",
       "      <td>0</td>\n",
       "      <td>2</td>\n",
       "      <td>2004</td>\n",
       "      <td>3989</td>\n",
       "      <td>136</td>\n",
       "      <td>656660</td>\n",
       "      <td>1650000</td>\n",
       "    </tr>\n",
       "    <tr>\n",
       "      <th>4</th>\n",
       "      <td>50</td>\n",
       "      <td>0</td>\n",
       "      <td>2</td>\n",
       "      <td>2011</td>\n",
       "      <td>3920</td>\n",
       "      <td>177</td>\n",
       "      <td>351968</td>\n",
       "      <td>2100000</td>\n",
       "    </tr>\n",
       "  </tbody>\n",
       "</table>\n",
       "</div>"
      ],
      "text/plain": [
       "   BRAND  JARMU JELLEGE  UZEMANYAGTIPUS  EVJARAT  HENGERURTARTALOM (CM3)  \\\n",
       "0     68              0               2     1996                    6871   \n",
       "1     75              0               2     1997                    5958   \n",
       "2     97              0               2     2002                   10640   \n",
       "3     83              0               2     2004                    3989   \n",
       "4     50              0               2     2011                    3920   \n",
       "\n",
       "   TELJESITMENY (LE)  FUTOTT KILOMETER  AR (HUF)  \n",
       "0                260            803039   1300000  \n",
       "1                132            217236   1500000  \n",
       "2                344            766500   1500000  \n",
       "3                136            656660   1650000  \n",
       "4                177            351968   2100000  "
      ]
     },
     "execution_count": 74,
     "metadata": {},
     "output_type": "execute_result"
    }
   ],
   "source": [
    "data = pd.read_csv(\"hasznaltautohu_db.csv\", encoding=\"ISO-8859-1\")\n",
    "brand_cat = None\n",
    "vehicle_type_cat = None \n",
    "fuel_type_cat = None\n",
    "\n",
    "\n",
    "data[\"BRAND\"] = data[\"BRAND\"].astype(\"category\")\n",
    "brand_cat = data[\"BRAND\"].cat.categories.to_list()\n",
    "data[\"BRAND\"] = data[\"BRAND\"].cat.codes\n",
    "\n",
    "data[\"JARMU JELLEGE\"] = data[\"JARMU JELLEGE\"].astype(\"category\")\n",
    "vehicle_type_cat = data[\"JARMU JELLEGE\"].cat.categories.to_list()\n",
    "data[\"JARMU JELLEGE\"] = data[\"JARMU JELLEGE\"].cat.codes\n",
    "\n",
    "data[\"UZEMANYAGTIPUS\"] = data[\"UZEMANYAGTIPUS\"].astype(\"category\")\n",
    "fuel_type_cat = data[\"UZEMANYAGTIPUS\"].cat.categories.to_list()\n",
    "data[\"UZEMANYAGTIPUS\"] = data[\"UZEMANYAGTIPUS\"].cat.codes\n",
    "\n",
    "data.head()"
   ]
  },
  {
   "cell_type": "code",
   "execution_count": 64,
   "metadata": {},
   "outputs": [
    {
     "data": {
      "text/html": [
       "<div>\n",
       "<style scoped>\n",
       "    .dataframe tbody tr th:only-of-type {\n",
       "        vertical-align: middle;\n",
       "    }\n",
       "\n",
       "    .dataframe tbody tr th {\n",
       "        vertical-align: top;\n",
       "    }\n",
       "\n",
       "    .dataframe thead th {\n",
       "        text-align: right;\n",
       "    }\n",
       "</style>\n",
       "<table border=\"1\" class=\"dataframe\">\n",
       "  <thead>\n",
       "    <tr style=\"text-align: right;\">\n",
       "      <th></th>\n",
       "      <th>BRAND</th>\n",
       "      <th>JARMU JELLEGE</th>\n",
       "      <th>UZEMANYAGTIPUS</th>\n",
       "      <th>EVJARAT</th>\n",
       "      <th>HENGERURTARTALOM (CM3)</th>\n",
       "      <th>TELJESITMENY (LE)</th>\n",
       "      <th>FUTOTT KILOMETER</th>\n",
       "      <th>AR (HUF)</th>\n",
       "    </tr>\n",
       "  </thead>\n",
       "  <tbody>\n",
       "    <tr>\n",
       "      <th>0</th>\n",
       "      <td>110</td>\n",
       "      <td>2</td>\n",
       "      <td>3</td>\n",
       "      <td>2020</td>\n",
       "      <td>0</td>\n",
       "      <td>513</td>\n",
       "      <td>9700</td>\n",
       "      <td>20990000</td>\n",
       "    </tr>\n",
       "    <tr>\n",
       "      <th>1</th>\n",
       "      <td>116</td>\n",
       "      <td>2</td>\n",
       "      <td>2</td>\n",
       "      <td>1999</td>\n",
       "      <td>1896</td>\n",
       "      <td>116</td>\n",
       "      <td>280000</td>\n",
       "      <td>195000</td>\n",
       "    </tr>\n",
       "    <tr>\n",
       "      <th>2</th>\n",
       "      <td>116</td>\n",
       "      <td>2</td>\n",
       "      <td>2</td>\n",
       "      <td>2012</td>\n",
       "      <td>1968</td>\n",
       "      <td>140</td>\n",
       "      <td>267097</td>\n",
       "      <td>4999000</td>\n",
       "    </tr>\n",
       "    <tr>\n",
       "      <th>3</th>\n",
       "      <td>38</td>\n",
       "      <td>1</td>\n",
       "      <td>2</td>\n",
       "      <td>2005</td>\n",
       "      <td>1998</td>\n",
       "      <td>101</td>\n",
       "      <td>399000</td>\n",
       "      <td>960000</td>\n",
       "    </tr>\n",
       "    <tr>\n",
       "      <th>4</th>\n",
       "      <td>91</td>\n",
       "      <td>1</td>\n",
       "      <td>2</td>\n",
       "      <td>2007</td>\n",
       "      <td>2464</td>\n",
       "      <td>120</td>\n",
       "      <td>330000</td>\n",
       "      <td>2500000</td>\n",
       "    </tr>\n",
       "  </tbody>\n",
       "</table>\n",
       "</div>"
      ],
      "text/plain": [
       "   BRAND  JARMU JELLEGE  UZEMANYAGTIPUS  EVJARAT  HENGERURTARTALOM (CM3)  \\\n",
       "0    110              2               3     2020                       0   \n",
       "1    116              2               2     1999                    1896   \n",
       "2    116              2               2     2012                    1968   \n",
       "3     38              1               2     2005                    1998   \n",
       "4     91              1               2     2007                    2464   \n",
       "\n",
       "   TELJESITMENY (LE)  FUTOTT KILOMETER  AR (HUF)  \n",
       "0                513              9700  20990000  \n",
       "1                116            280000    195000  \n",
       "2                140            267097   4999000  \n",
       "3                101            399000    960000  \n",
       "4                120            330000   2500000  "
      ]
     },
     "execution_count": 64,
     "metadata": {},
     "output_type": "execute_result"
    }
   ],
   "source": [
    "data = shuffle(data, random_state=42)\n",
    "data.reset_index(inplace=True, drop=True)\n",
    "data.head()"
   ]
  },
  {
   "cell_type": "code",
   "execution_count": 65,
   "metadata": {},
   "outputs": [],
   "source": [
    "from sklearn.tree import DecisionTreeRegressor\n",
    "from sklearn.ensemble import RandomForestRegressor\n",
    "from sklearn.linear_model import LinearRegression\n",
    "from sklearn.model_selection import train_test_split\n",
    "from sklearn.metrics import mean_squared_error"
   ]
  },
  {
   "cell_type": "code",
   "execution_count": 66,
   "metadata": {},
   "outputs": [],
   "source": [
    "model = None\n",
    "\n",
    "dfX, dfY = data.loc[:, :\"FUTOTT KILOMETER\"], data[\"AR (HUF)\"]\n",
    "X, y = dfX.to_numpy(), dfY.to_numpy()\n",
    "\n",
    "X_train, X_test, y_train, y_test = train_test_split(X, y, test_size=0.2, random_state=42)"
   ]
  },
  {
   "cell_type": "code",
   "execution_count": 67,
   "metadata": {},
   "outputs": [],
   "source": [
    "def evaluate_model():\n",
    "    y_pred = model.predict(X_test)\n",
    "    print(\"Error: {}\".format(mean_squared_error(y_test, y_pred)))"
   ]
  },
  {
   "cell_type": "code",
   "execution_count": 68,
   "metadata": {},
   "outputs": [
    {
     "name": "stdout",
     "output_type": "stream",
     "text": [
      "Error: 12665495067957.303\n"
     ]
    }
   ],
   "source": [
    "model = LinearRegression()\n",
    "model.fit(X_train, y_train)\n",
    "\n",
    "evaluate_model()"
   ]
  },
  {
   "cell_type": "code",
   "execution_count": 69,
   "metadata": {},
   "outputs": [
    {
     "name": "stdout",
     "output_type": "stream",
     "text": [
      "Error: 4452042099541.908\n"
     ]
    }
   ],
   "source": [
    "model = DecisionTreeRegressor()\n",
    "model.fit(X_train, y_train)\n",
    "\n",
    "evaluate_model()"
   ]
  },
  {
   "cell_type": "code",
   "execution_count": 70,
   "metadata": {},
   "outputs": [
    {
     "name": "stdout",
     "output_type": "stream",
     "text": [
      "Error: 2659459382200.084\n"
     ]
    }
   ],
   "source": [
    "model = RandomForestRegressor()\n",
    "model.fit(X_train, y_train)\n",
    "\n",
    "evaluate_model()"
   ]
  },
  {
   "cell_type": "markdown",
   "metadata": {},
   "source": [
    "# Teszt más oldalakon talált autókkal"
   ]
  },
  {
   "cell_type": "code",
   "execution_count": 79,
   "metadata": {},
   "outputs": [],
   "source": [
    "def make_car(brand, vhc_type, fuel_type, year, cc, hp, km):\n",
    "    brand_i = brand_cat.index(brand)\n",
    "    vehicle_type_i = vehicle_type_cat.index(vhc_type)\n",
    "    fuel_type_i = fuel_type_cat.index(fuel_type)\n",
    "\n",
    "    return [[brand_i, vehicle_type_i, fuel_type_i, year, cc, hp, km],]"
   ]
  },
  {
   "cell_type": "code",
   "execution_count": 80,
   "metadata": {},
   "outputs": [
    {
     "name": "stdout",
     "output_type": "stream",
     "text": [
      "[357860.]\n"
     ]
    }
   ],
   "source": [
    "# Suzuki Swift 1998 (elvárt: ~350-450k) \n",
    "\n",
    "car = make_car(\"SUZUKI\", \"szemelyauto\", \"Benzin\", 1998, 1298, 67, 94000)\n",
    "car_price = model.predict(car)\n",
    "\n",
    "print(car_price)"
   ]
  },
  {
   "cell_type": "code",
   "execution_count": 81,
   "metadata": {},
   "outputs": [
    {
     "name": "stdout",
     "output_type": "stream",
     "text": [
      "[17467247.02020202]\n"
     ]
    }
   ],
   "source": [
    "# TESLA model3 (elvárt 16M-22M)\n",
    "\n",
    "car = make_car(\"TESLA\", \"szemelyauto\", \"Elektromos\", 2021, 0, 260, 300)\n",
    "car_price = model.predict(car)\n",
    "\n",
    "print(car_price)"
   ]
  },
  {
   "cell_type": "code",
   "execution_count": 84,
   "metadata": {},
   "outputs": [
    {
     "name": "stdout",
     "output_type": "stream",
     "text": [
      "[4063689.92]\n"
     ]
    }
   ],
   "source": [
    "# IVECO 35 2011 (elvárt 2.2-3.2M)\n",
    "\n",
    "car = make_car(\"IVECO\", \"kishaszongepjarmu\", \"Dízel\", 2011, 2287, 126, 113000)\n",
    "car_price = model.predict(car)\n",
    "\n",
    "print(car_price)"
   ]
  },
  {
   "cell_type": "code",
   "execution_count": 85,
   "metadata": {},
   "outputs": [
    {
     "name": "stdout",
     "output_type": "stream",
     "text": [
      "[22306730.]\n"
     ]
    }
   ],
   "source": [
    "# BMW i8 (elvárt 22M - 29M)\n",
    "\n",
    "car = make_car(\"BMW\", \"szemelyauto\", \"Hibrid\", 2016, 1499, 231, 77352)\n",
    "car_price = model.predict(car)\n",
    "\n",
    "print(car_price)"
   ]
  },
  {
   "cell_type": "code",
   "execution_count": 86,
   "metadata": {},
   "outputs": [
    {
     "name": "stdout",
     "output_type": "stream",
     "text": [
      "[9985380.]\n"
     ]
    }
   ],
   "source": [
    "# Scania 2008 körüli nyergesvontató 700e km-el (elvárt ~6M)\n",
    "\n",
    "car = make_car(\"SCANIA\", \"haszongepjarmu\", \"Dízel\", 2008, 12000, 309, 700000)\n",
    "car_price = model.predict(car)\n",
    "\n",
    "print(car_price)"
   ]
  },
  {
   "cell_type": "code",
   "execution_count": null,
   "metadata": {},
   "outputs": [],
   "source": []
  }
 ],
 "metadata": {
  "kernelspec": {
   "display_name": "Python 3",
   "language": "python",
   "name": "python3"
  },
  "language_info": {
   "codemirror_mode": {
    "name": "ipython",
    "version": 3
   },
   "file_extension": ".py",
   "mimetype": "text/x-python",
   "name": "python",
   "nbconvert_exporter": "python",
   "pygments_lexer": "ipython3",
   "version": "3.8.5"
  }
 },
 "nbformat": 4,
 "nbformat_minor": 4
}
